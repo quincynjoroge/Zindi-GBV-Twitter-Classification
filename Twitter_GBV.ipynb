{
  "nbformat": 4,
  "nbformat_minor": 0,
  "metadata": {
    "colab": {
      "name": "Twitter_GBV.ipynb",
      "provenance": [],
      "collapsed_sections": []
    },
    "kernelspec": {
      "name": "python3",
      "display_name": "Python 3"
    },
    "language_info": {
      "name": "python"
    }
  },
  "cells": [
    {
      "cell_type": "markdown",
      "metadata": {
        "id": "JwtiVzkyvkgS"
      },
      "source": [
        "##Libraries"
      ]
    },
    {
      "cell_type": "code",
      "metadata": {
        "colab": {
          "base_uri": "https://localhost:8080/"
        },
        "id": "garSUcwX4KaR",
        "outputId": "af6f4161-5370-4aa9-fc87-92d3c8b72637"
      },
      "source": [
        "import pandas as pd\n",
        "import numpy as np\n",
        "#for text pre-processing\n",
        "import re, string\n",
        "import nltk\n",
        "from nltk.tokenize import word_tokenize\n",
        "from nltk.corpus import stopwords\n",
        "from nltk.tokenize import word_tokenize\n",
        "from nltk.stem import SnowballStemmer\n",
        "from nltk.corpus import wordnet\n",
        "from nltk.stem import WordNetLemmatizer\n",
        "nltk.download('punkt')\n",
        "nltk.download('averaged_perceptron_tagger')\n",
        "nltk.download('wordnet')\n",
        "#for model-building\n",
        "from sklearn.model_selection import train_test_split\n",
        "from sklearn.linear_model import LogisticRegression\n",
        "from sklearn.naive_bayes import MultinomialNB\n",
        "from sklearn.metrics import classification_report, f1_score, accuracy_score, confusion_matrix\n",
        "from sklearn.metrics import roc_curve, auc, roc_auc_score\n",
        "# bag of words\n",
        "from sklearn.feature_extraction.text import TfidfVectorizer\n",
        "from sklearn.feature_extraction.text import CountVectorizer\n",
        "#for word embedding\n",
        "import gensim\n",
        "from gensim.models import Word2Vec"
      ],
      "execution_count": null,
      "outputs": [
        {
          "output_type": "stream",
          "text": [
            "[nltk_data] Downloading package punkt to /root/nltk_data...\n",
            "[nltk_data]   Package punkt is already up-to-date!\n",
            "[nltk_data] Downloading package averaged_perceptron_tagger to\n",
            "[nltk_data]     /root/nltk_data...\n",
            "[nltk_data]   Package averaged_perceptron_tagger is already up-to-\n",
            "[nltk_data]       date!\n",
            "[nltk_data] Downloading package wordnet to /root/nltk_data...\n",
            "[nltk_data]   Package wordnet is already up-to-date!\n"
          ],
          "name": "stdout"
        }
      ]
    },
    {
      "cell_type": "markdown",
      "metadata": {
        "id": "WznXBjF_vo42"
      },
      "source": [
        "## Loading the data"
      ]
    },
    {
      "cell_type": "code",
      "metadata": {
        "colab": {
          "base_uri": "https://localhost:8080/",
          "height": 204
        },
        "id": "IAN92Orp4cqe",
        "outputId": "bcbe2437-4cf5-42df-ebb0-70949335e217"
      },
      "source": [
        "#uploading the data\n",
        "\n",
        "df_train= pd.read_csv('/content/Train.csv')\n",
        "df_test=pd.read_csv('/content/Test.csv')\n",
        "df_test.head()"
      ],
      "execution_count": null,
      "outputs": [
        {
          "output_type": "execute_result",
          "data": {
            "text/html": [
              "<div>\n",
              "<style scoped>\n",
              "    .dataframe tbody tr th:only-of-type {\n",
              "        vertical-align: middle;\n",
              "    }\n",
              "\n",
              "    .dataframe tbody tr th {\n",
              "        vertical-align: top;\n",
              "    }\n",
              "\n",
              "    .dataframe thead th {\n",
              "        text-align: right;\n",
              "    }\n",
              "</style>\n",
              "<table border=\"1\" class=\"dataframe\">\n",
              "  <thead>\n",
              "    <tr style=\"text-align: right;\">\n",
              "      <th></th>\n",
              "      <th>Tweet_ID</th>\n",
              "      <th>tweet</th>\n",
              "    </tr>\n",
              "  </thead>\n",
              "  <tbody>\n",
              "    <tr>\n",
              "      <th>0</th>\n",
              "      <td>ID_0095QL4S</td>\n",
              "      <td>because he was my boyfriend, and if I said no,...</td>\n",
              "    </tr>\n",
              "    <tr>\n",
              "      <th>1</th>\n",
              "      <td>ID_00DREW5O</td>\n",
              "      <td>lol no, I'm telling you it's not legal. It's l...</td>\n",
              "    </tr>\n",
              "    <tr>\n",
              "      <th>2</th>\n",
              "      <td>ID_00E9F5X9</td>\n",
              "      <td>Somalia's semi-autonomous Puntland region has ...</td>\n",
              "    </tr>\n",
              "    <tr>\n",
              "      <th>3</th>\n",
              "      <td>ID_00G9OSKZ</td>\n",
              "      <td>University of Cape Coast students being robbed...</td>\n",
              "    </tr>\n",
              "    <tr>\n",
              "      <th>4</th>\n",
              "      <td>ID_00HU96U6</td>\n",
              "      <td>\"Somebody came up behind him and stabbed him i...</td>\n",
              "    </tr>\n",
              "  </tbody>\n",
              "</table>\n",
              "</div>"
            ],
            "text/plain": [
              "      Tweet_ID                                              tweet\n",
              "0  ID_0095QL4S  because he was my boyfriend, and if I said no,...\n",
              "1  ID_00DREW5O  lol no, I'm telling you it's not legal. It's l...\n",
              "2  ID_00E9F5X9  Somalia's semi-autonomous Puntland region has ...\n",
              "3  ID_00G9OSKZ  University of Cape Coast students being robbed...\n",
              "4  ID_00HU96U6  \"Somebody came up behind him and stabbed him i..."
            ]
          },
          "metadata": {
            "tags": []
          },
          "execution_count": 3
        }
      ]
    },
    {
      "cell_type": "code",
      "metadata": {
        "colab": {
          "base_uri": "https://localhost:8080/",
          "height": 439
        },
        "id": "UKSMH6nT40DM",
        "outputId": "8522aaa3-9d80-451d-bccb-75c302dd2f53"
      },
      "source": [
        "# view the prediction categories\n",
        "import seaborn as sns\n",
        "x=df_train['type'].value_counts()\n",
        "print(x)\n",
        "sns.barplot(x.index,x)"
      ],
      "execution_count": null,
      "outputs": [
        {
          "output_type": "stream",
          "text": [
            "sexual_violence                 32648\n",
            "Physical_violence                5946\n",
            "emotional_violence                651\n",
            "economic_violence                 217\n",
            "Harmful_Traditional_practice      188\n",
            "Name: type, dtype: int64\n"
          ],
          "name": "stdout"
        },
        {
          "output_type": "stream",
          "text": [
            "/usr/local/lib/python3.7/dist-packages/seaborn/_decorators.py:43: FutureWarning: Pass the following variables as keyword args: x, y. From version 0.12, the only valid positional argument will be `data`, and passing other arguments without an explicit keyword will result in an error or misinterpretation.\n",
            "  FutureWarning\n"
          ],
          "name": "stderr"
        },
        {
          "output_type": "execute_result",
          "data": {
            "text/plain": [
              "<matplotlib.axes._subplots.AxesSubplot at 0x7fb1b516e410>"
            ]
          },
          "metadata": {
            "tags": []
          },
          "execution_count": 4
        },
        {
          "output_type": "display_data",
          "data": {
            "image/png": "[encoded data removed]",
            "text/plain": [
              "<Figure size 432x288 with 1 Axes>"
            ]
          },
          "metadata": {
            "tags": [],
            "needs_background": "light"
          }
        }
      ]
    },
    {
      "cell_type": "markdown",
      "metadata": {
        "id": "jUG4k2G_vwJ4"
      },
      "source": [
        "## Preprocessing"
      ]
    },
    {
      "cell_type": "code",
      "metadata": {
        "id": "5hj79l-KQa3W"
      },
      "source": [
        "# df_train['type'] = df_train['type'].map({'sexual_violence': 0, 'Physical_violence': 1, 'emotional_violence': 2,\n",
        "#                              'Harmful_Traditional_practice': 3, 'economic_violence': 4})\n",
        "from sklearn import preprocessing\n",
        "le = preprocessing.LabelEncoder()\n",
        "df_train['type'] = le.fit_transform(df_train['type'])"
      ],
      "execution_count": null,
      "outputs": []
    },
    {
      "cell_type": "code",
      "metadata": {
        "colab": {
          "base_uri": "https://localhost:8080/"
        },
        "id": "h7mn8Wp-ixDo",
        "outputId": "57ae4553-8264-4323-e219-c9c10db17ac5"
      },
      "source": [
        "df_train['type'].unique()"
      ],
      "execution_count": null,
      "outputs": [
        {
          "output_type": "execute_result",
          "data": {
            "text/plain": [
              "array([4, 1, 3, 0, 2])"
            ]
          },
          "metadata": {
            "tags": []
          },
          "execution_count": 6
        }
      ]
    },
    {
      "cell_type": "code",
      "metadata": {
        "colab": {
          "base_uri": "https://localhost:8080/",
          "height": 421
        },
        "id": "YQGAjd9LjKkB",
        "outputId": "4ffe50b0-75af-41af-bc1c-3f7a01528f66"
      },
      "source": [
        "x=df_train['type'].value_counts()\n",
        "print(x)\n",
        "sns.barplot(x.index,x);"
      ],
      "execution_count": null,
      "outputs": [
        {
          "output_type": "stream",
          "text": [
            "4    32648\n",
            "1     5946\n",
            "3      651\n",
            "2      217\n",
            "0      188\n",
            "Name: type, dtype: int64\n"
          ],
          "name": "stdout"
        },
        {
          "output_type": "stream",
          "text": [
            "/usr/local/lib/python3.7/dist-packages/seaborn/_decorators.py:43: FutureWarning: Pass the following variables as keyword args: x, y. From version 0.12, the only valid positional argument will be `data`, and passing other arguments without an explicit keyword will result in an error or misinterpretation.\n",
            "  FutureWarning\n"
          ],
          "name": "stderr"
        },
        {
          "output_type": "display_data",
          "data": {
            "image/png": "[encoded data removed]",
            "text/plain": [
              "<Figure size 432x288 with 1 Axes>"
            ]
          },
          "metadata": {
            "tags": [],
            "needs_background": "light"
          }
        }
      ]
    },
    {
      "cell_type": "code",
      "metadata": {
        "colab": {
          "base_uri": "https://localhost:8080/"
        },
        "id": "1tOLnrHp87G8",
        "outputId": "1625029b-3089-4c7a-f6d8-5004db5b62d8"
      },
      "source": [
        "#1. WORD-COUNT\n",
        "df_train['word_count'] = df_train['tweet'].apply(lambda x: len(str(x).split()))\n",
        "print(df_train[df_train['type']==0]['word_count'].mean()) #Abuse tweets\n",
        "print(df_train[df_train['type']==1]['word_count'].mean()) #Non-Disaster tweets\n",
        "print(df_train[df_train['type']==2]['word_count'].mean()) \n",
        "print(df_train[df_train['type']==3]['word_count'].mean()) \n",
        "print(df_train[df_train['type']==4]['word_count'].mean()) \n",
        "print('***'*30)\n",
        "#Disaster tweets are more wordy than the non-disaster tweets\n",
        "\n",
        "#2. CHARACTER-COUNT\n",
        "df_train['char_count'] = df_train['tweet'].apply(lambda x: len(str(x)))\n",
        "print(df_train[df_train['type']==0]['char_count'].mean()) #Disaster tweets\n",
        "print(df_train[df_train['type']==1]['char_count'].mean())\n",
        "print(df_train[df_train['type']==2]['char_count'].mean())\n",
        "print(df_train[df_train['type']==3]['char_count'].mean())\n",
        "print(df_train[df_train['type']==4]['char_count'].mean())\n",
        "print('***'*30) #Non-Disaster tweets\n",
        "#Disaster tweets are longer than the non-disaster tweets\n",
        "\n",
        "#3. UNIQUE WORD-COUNT\n",
        "df_train['unique_word_count'] = df_train['tweet'].apply(lambda x: len(set(str(x).split())))\n",
        "print(df_train[df_train['type']==0]['unique_word_count'].mean()) #Disaster tweets\n",
        "print(df_train[df_train['type']==1]['unique_word_count'].mean()) #Non-Disaster tweets\n",
        "print(df_train[df_train['type']==2]['unique_word_count'].mean())\n",
        "print(df_train[df_train['type']==3]['unique_word_count'].mean())\n",
        "print(df_train[df_train['type']==4]['unique_word_count'].mean())"
      ],
      "execution_count": null,
      "outputs": [
        {
          "output_type": "stream",
          "text": [
            "33.920212765957444\n",
            "23.301883619239824\n",
            "40.534562211981566\n",
            "38.48233486943165\n",
            "41.74981622151434\n",
            "******************************************************************************************\n",
            "191.7659574468085\n",
            "122.67574840228725\n",
            "205.38248847926266\n",
            "202.65284178187403\n",
            "213.30792085273217\n",
            "******************************************************************************************\n",
            "30.22340425531915\n",
            "21.474100235452404\n",
            "34.31336405529954\n",
            "33.78033794162826\n",
            "36.008208772359716\n"
          ],
          "name": "stdout"
        }
      ]
    },
    {
      "cell_type": "code",
      "metadata": {
        "colab": {
          "base_uri": "https://localhost:8080/"
        },
        "id": "Yx3kYMZi5Bqj",
        "outputId": "6b3b3cb9-11ff-446b-fc32-7e7c139d684c"
      },
      "source": [
        "df_train.isna().sum()"
      ],
      "execution_count": null,
      "outputs": [
        {
          "output_type": "execute_result",
          "data": {
            "text/plain": [
              "Tweet_ID             0\n",
              "tweet                0\n",
              "type                 0\n",
              "word_count           0\n",
              "char_count           0\n",
              "unique_word_count    0\n",
              "dtype: int64"
            ]
          },
          "metadata": {
            "tags": []
          },
          "execution_count": 9
        }
      ]
    },
    {
      "cell_type": "code",
      "metadata": {
        "id": "XHYwhgui5GfH"
      },
      "source": [
        "# # PLOTTING WORD-COUNT\n",
        "# import matplotlib.pyplot as plt\n",
        "\n",
        "# fig,(ax1,ax2)=plt.subplots(1,2,figsize=(10,4))\n",
        "# train_words=df_train[df_train['type']==1]['tweet']\n",
        "# ax1.hist(train_words,color='red')\n",
        "# ax1.set_title('Disaster tweets')\n",
        "# train_words=df_train[df_train['type']==0]['tweet']\n",
        "# ax2.hist(train_words,color='green')\n",
        "# ax2.set_title('Non-disaster tweets')\n",
        "# fig.suptitle('Words per tweet')\n",
        "# plt.show()"
      ],
      "execution_count": null,
      "outputs": []
    },
    {
      "cell_type": "code",
      "metadata": {
        "id": "GyyKTEYO5j9y"
      },
      "source": [
        "#convert to lowercase, strip and remove punctuations\n",
        "def preprocess(text):\n",
        "    text = text.lower() \n",
        "    text=text.strip()  \n",
        "    text=re.compile('<.*?>').sub('', text) \n",
        "    text = re.compile('[%s]' % re.escape(string.punctuation)).sub(' ', text)  \n",
        "    text = re.sub('\\s+', ' ', text)  \n",
        "    text = re.sub(r'\\[[0-9]*\\]',' ',text) \n",
        "    text=re.sub(r'[^\\w\\s]', '', str(text).lower().strip())\n",
        "    text = re.sub(r'\\d',' ',text) \n",
        "    text = re.sub(r'\\s+',' ',text) \n",
        "    return text\n",
        "\n",
        " \n",
        "# STOPWORD REMOVAL\n",
        "def stopword(string):\n",
        "    a= [i for i in string.split() if i not in stopwords.words('english')]\n",
        "    return ' '.join(a)\n",
        "#LEMMATIZATION\n",
        "# Initialize the lemmatizer\n",
        "wl = WordNetLemmatizer()\n",
        " \n",
        "# This is a helper function to map NTLK position tags\n",
        "def get_wordnet_pos(tag):\n",
        "    if tag.startswith('J'):\n",
        "        return wordnet.ADJ\n",
        "    elif tag.startswith('V'):\n",
        "        return wordnet.VERB\n",
        "    elif tag.startswith('N'):\n",
        "        return wordnet.NOUN\n",
        "    elif tag.startswith('R'):\n",
        "        return wordnet.ADV\n",
        "    else:\n",
        "        return wordnet.NOUN\n",
        "# Tokenize the sentence\n",
        "def lemmatizer(string):\n",
        "    word_pos_tags = nltk.pos_tag(word_tokenize(string)) # Get position tags\n",
        "    a=[wl.lemmatize(tag[0], get_wordnet_pos(tag[1])) for idx, tag in enumerate(word_pos_tags)] # Map the position tag and lemmatize the word/token\n",
        "    return \" \".join(a)"
      ],
      "execution_count": null,
      "outputs": []
    },
    {
      "cell_type": "code",
      "metadata": {
        "colab": {
          "base_uri": "https://localhost:8080/"
        },
        "id": "TpV6ZlG46C3H",
        "outputId": "355b61e3-430a-4acf-84ef-75c6ec0afd4e"
      },
      "source": [
        "from nltk.corpus import stopwords\n",
        "nltk.download('stopwords')"
      ],
      "execution_count": null,
      "outputs": [
        {
          "output_type": "stream",
          "text": [
            "[nltk_data] Downloading package stopwords to /root/nltk_data...\n",
            "[nltk_data]   Unzipping corpora/stopwords.zip.\n"
          ],
          "name": "stdout"
        },
        {
          "output_type": "execute_result",
          "data": {
            "text/plain": [
              "True"
            ]
          },
          "metadata": {
            "tags": []
          },
          "execution_count": 12
        }
      ]
    },
    {
      "cell_type": "code",
      "metadata": {
        "id": "JrIaap775u15",
        "colab": {
          "base_uri": "https://localhost:8080/",
          "height": 289
        },
        "outputId": "ba42e95f-5ded-49d5-f698-b27cc5cb5ec8"
      },
      "source": [
        "def finalpreprocess(string):\n",
        "    return lemmatizer(stopword(preprocess(string)))\n",
        "df_train['clean_text'] = df_train['tweet'].apply(lambda x: finalpreprocess(x))\n",
        "df_train.head()"
      ],
      "execution_count": null,
      "outputs": [
        {
          "output_type": "execute_result",
          "data": {
            "text/html": [
              "<div>\n",
              "<style scoped>\n",
              "    .dataframe tbody tr th:only-of-type {\n",
              "        vertical-align: middle;\n",
              "    }\n",
              "\n",
              "    .dataframe tbody tr th {\n",
              "        vertical-align: top;\n",
              "    }\n",
              "\n",
              "    .dataframe thead th {\n",
              "        text-align: right;\n",
              "    }\n",
              "</style>\n",
              "<table border=\"1\" class=\"dataframe\">\n",
              "  <thead>\n",
              "    <tr style=\"text-align: right;\">\n",
              "      <th></th>\n",
              "      <th>Tweet_ID</th>\n",
              "      <th>tweet</th>\n",
              "      <th>type</th>\n",
              "      <th>word_count</th>\n",
              "      <th>char_count</th>\n",
              "      <th>unique_word_count</th>\n",
              "      <th>clean_text</th>\n",
              "    </tr>\n",
              "  </thead>\n",
              "  <tbody>\n",
              "    <tr>\n",
              "      <th>0</th>\n",
              "      <td>ID_0022DWKP</td>\n",
              "      <td>Had a dream i got raped last night. By a guy i...</td>\n",
              "      <td>4</td>\n",
              "      <td>45</td>\n",
              "      <td>203</td>\n",
              "      <td>40</td>\n",
              "      <td>dream get rap last night guy work actually guy...</td>\n",
              "    </tr>\n",
              "    <tr>\n",
              "      <th>1</th>\n",
              "      <td>ID_00395QYM</td>\n",
              "      <td>he thought the word raped means sex and told m...</td>\n",
              "      <td>4</td>\n",
              "      <td>21</td>\n",
              "      <td>100</td>\n",
              "      <td>20</td>\n",
              "      <td>think word rap mean sex tell saw dog rap eacho...</td>\n",
              "    </tr>\n",
              "    <tr>\n",
              "      <th>2</th>\n",
              "      <td>ID_003EOSSF</td>\n",
              "      <td>She NOT TALKING TO ME I WAS RAPED BY 2 MEN 1 M...</td>\n",
              "      <td>4</td>\n",
              "      <td>24</td>\n",
              "      <td>104</td>\n",
              "      <td>23</td>\n",
              "      <td>talk rap men molest jail nother charge say word</td>\n",
              "    </tr>\n",
              "    <tr>\n",
              "      <th>3</th>\n",
              "      <td>ID_004BBHOD</td>\n",
              "      <td>I was sexually abused for 3 years at age 4 to ...</td>\n",
              "      <td>4</td>\n",
              "      <td>61</td>\n",
              "      <td>280</td>\n",
              "      <td>50</td>\n",
              "      <td>sexually abused year age one believe rap bros ...</td>\n",
              "    </tr>\n",
              "    <tr>\n",
              "      <th>4</th>\n",
              "      <td>ID_004F7516</td>\n",
              "      <td>Chessy Prout can do better by telling the trut...</td>\n",
              "      <td>4</td>\n",
              "      <td>52</td>\n",
              "      <td>278</td>\n",
              "      <td>44</td>\n",
              "      <td>chessy prout good tell truth sell owen labrie ...</td>\n",
              "    </tr>\n",
              "  </tbody>\n",
              "</table>\n",
              "</div>"
            ],
            "text/plain": [
              "      Tweet_ID  ...                                         clean_text\n",
              "0  ID_0022DWKP  ...  dream get rap last night guy work actually guy...\n",
              "1  ID_00395QYM  ...  think word rap mean sex tell saw dog rap eacho...\n",
              "2  ID_003EOSSF  ...    talk rap men molest jail nother charge say word\n",
              "3  ID_004BBHOD  ...  sexually abused year age one believe rap bros ...\n",
              "4  ID_004F7516  ...  chessy prout good tell truth sell owen labrie ...\n",
              "\n",
              "[5 rows x 7 columns]"
            ]
          },
          "metadata": {
            "tags": []
          },
          "execution_count": 13
        }
      ]
    },
    {
      "cell_type": "code",
      "metadata": {
        "id": "3TkmhfJl_2oQ",
        "colab": {
          "base_uri": "https://localhost:8080/",
          "height": 769
        },
        "outputId": "d2939248-df34-442c-902b-e1efedbf1ca5"
      },
      "source": [
        "# Converting all characters in the message to lower case\n",
        "# \n",
        "df_train['clean_text'] = df_train['clean_text'].map(lambda x: x.lower())\n",
        "\n",
        "# Removing any punctuation\n",
        "# \n",
        "df_train['clean_text'] = df_train['clean_text'].str.replace('[^\\w\\s_]', '')\n",
        "\n",
        "# Removing numbers from strings of speciafied \n",
        "# Column, here 'tweet'\n",
        "df_train['clean_text'] = df_train['clean_text'].str.replace('\\d+', '')\n",
        "\n",
        "df_train.sample(15)"
      ],
      "execution_count": null,
      "outputs": [
        {
          "output_type": "execute_result",
          "data": {
            "text/html": [
              "<div>\n",
              "<style scoped>\n",
              "    .dataframe tbody tr th:only-of-type {\n",
              "        vertical-align: middle;\n",
              "    }\n",
              "\n",
              "    .dataframe tbody tr th {\n",
              "        vertical-align: top;\n",
              "    }\n",
              "\n",
              "    .dataframe thead th {\n",
              "        text-align: right;\n",
              "    }\n",
              "</style>\n",
              "<table border=\"1\" class=\"dataframe\">\n",
              "  <thead>\n",
              "    <tr style=\"text-align: right;\">\n",
              "      <th></th>\n",
              "      <th>Tweet_ID</th>\n",
              "      <th>tweet</th>\n",
              "      <th>type</th>\n",
              "      <th>word_count</th>\n",
              "      <th>char_count</th>\n",
              "      <th>unique_word_count</th>\n",
              "      <th>clean_text</th>\n",
              "    </tr>\n",
              "  </thead>\n",
              "  <tbody>\n",
              "    <tr>\n",
              "      <th>19440</th>\n",
              "      <td>ID_HQKEG389</td>\n",
              "      <td>You know the craziest thing abt this rape issu...</td>\n",
              "      <td>4</td>\n",
              "      <td>54</td>\n",
              "      <td>279</td>\n",
              "      <td>45</td>\n",
              "      <td>know crazy thing abt rape issue people talk co...</td>\n",
              "    </tr>\n",
              "    <tr>\n",
              "      <th>30329</th>\n",
              "      <td>ID_RM3UQDPJ</td>\n",
              "      <td>Me too! I’ve always hated Trump since the 1970...</td>\n",
              "      <td>4</td>\n",
              "      <td>51</td>\n",
              "      <td>277</td>\n",
              "      <td>47</td>\n",
              "      <td>ive always hat trump since beat rap wife racis...</td>\n",
              "    </tr>\n",
              "    <tr>\n",
              "      <th>35199</th>\n",
              "      <td>ID_W1WEVR6C</td>\n",
              "      <td>One detained woman compared her visit to the g...</td>\n",
              "      <td>4</td>\n",
              "      <td>24</td>\n",
              "      <td>134</td>\n",
              "      <td>21</td>\n",
              "      <td>one detain woman compare visit gynecologist ra...</td>\n",
              "    </tr>\n",
              "    <tr>\n",
              "      <th>33068</th>\n",
              "      <td>ID_U3C6VI0Z</td>\n",
              "      <td>He is a predator of young girls and raped me. ...</td>\n",
              "      <td>4</td>\n",
              "      <td>41</td>\n",
              "      <td>225</td>\n",
              "      <td>35</td>\n",
              "      <td>predator young girl rap access laptop everythi...</td>\n",
              "    </tr>\n",
              "    <tr>\n",
              "      <th>28893</th>\n",
              "      <td>ID_QC056YKK</td>\n",
              "      <td>the older girls used to b weird as shit w me w...</td>\n",
              "      <td>4</td>\n",
              "      <td>57</td>\n",
              "      <td>280</td>\n",
              "      <td>49</td>\n",
              "      <td>old girl use b weird shit w kid n wasnt summer...</td>\n",
              "    </tr>\n",
              "    <tr>\n",
              "      <th>34545</th>\n",
              "      <td>ID_VGP3NDHS</td>\n",
              "      <td>I am responsible for my husband's upkeep, yet ...</td>\n",
              "      <td>1</td>\n",
              "      <td>21</td>\n",
              "      <td>117</td>\n",
              "      <td>21</td>\n",
              "      <td>responsible husband upkeep yet beat estrange w...</td>\n",
              "    </tr>\n",
              "    <tr>\n",
              "      <th>23578</th>\n",
              "      <td>ID_LI8S4BEN</td>\n",
              "      <td>Well let me explain a simple tweet to u in lay...</td>\n",
              "      <td>4</td>\n",
              "      <td>48</td>\n",
              "      <td>266</td>\n",
              "      <td>41</td>\n",
              "      <td>well let explain simple tweet u layman term u ...</td>\n",
              "    </tr>\n",
              "    <tr>\n",
              "      <th>6714</th>\n",
              "      <td>ID_629GL1J4</td>\n",
              "      <td>My husband beats, strips me n*ked, woman tells...</td>\n",
              "      <td>1</td>\n",
              "      <td>9</td>\n",
              "      <td>56</td>\n",
              "      <td>9</td>\n",
              "      <td>husband beat strip n ked woman tell court</td>\n",
              "    </tr>\n",
              "    <tr>\n",
              "      <th>33172</th>\n",
              "      <td>ID_U6KKTO0S</td>\n",
              "      <td>How do you know he isn't being paid, maybe qui...</td>\n",
              "      <td>4</td>\n",
              "      <td>38</td>\n",
              "      <td>194</td>\n",
              "      <td>35</td>\n",
              "      <td>know pay maybe quid pro quo tell public father...</td>\n",
              "    </tr>\n",
              "    <tr>\n",
              "      <th>24760</th>\n",
              "      <td>ID_MKMU53SA</td>\n",
              "      <td>Biden raped me .actually he is  raping me righ...</td>\n",
              "      <td>4</td>\n",
              "      <td>16</td>\n",
              "      <td>84</td>\n",
              "      <td>13</td>\n",
              "      <td>biden rap actually rap right rap million iranian</td>\n",
              "    </tr>\n",
              "    <tr>\n",
              "      <th>39596</th>\n",
              "      <td>ID_ZYQFRA85</td>\n",
              "      <td>The Pasadena DA office did not press charges o...</td>\n",
              "      <td>4</td>\n",
              "      <td>52</td>\n",
              "      <td>279</td>\n",
              "      <td>47</td>\n",
              "      <td>pasadena da office press charge attacker call ...</td>\n",
              "    </tr>\n",
              "    <tr>\n",
              "      <th>36046</th>\n",
              "      <td>ID_WUAHJMRO</td>\n",
              "      <td>Call me an insensitive dbag on FB and start ta...</td>\n",
              "      <td>1</td>\n",
              "      <td>29</td>\n",
              "      <td>139</td>\n",
              "      <td>28</td>\n",
              "      <td>call insensitive dbag fb start talk business p...</td>\n",
              "    </tr>\n",
              "    <tr>\n",
              "      <th>5967</th>\n",
              "      <td>ID_5DX91A1L</td>\n",
              "      <td>Someone asked me if my husband beats me becaus...</td>\n",
              "      <td>1</td>\n",
              "      <td>27</td>\n",
              "      <td>144</td>\n",
              "      <td>24</td>\n",
              "      <td>someone ask husband beat tell cant wear certai...</td>\n",
              "    </tr>\n",
              "    <tr>\n",
              "      <th>10160</th>\n",
              "      <td>ID_98IG7V0T</td>\n",
              "      <td>Technically if he said Lord forgive me for wha...</td>\n",
              "      <td>4</td>\n",
              "      <td>44</td>\n",
              "      <td>236</td>\n",
              "      <td>38</td>\n",
              "      <td>technically say lord forgive ask forgiveness h...</td>\n",
              "    </tr>\n",
              "    <tr>\n",
              "      <th>14382</th>\n",
              "      <td>ID_D0YQMFZH</td>\n",
              "      <td>I was violently raped while  in the US Army st...</td>\n",
              "      <td>4</td>\n",
              "      <td>50</td>\n",
              "      <td>270</td>\n",
              "      <td>41</td>\n",
              "      <td>violently rap u army station ford ord ca many ...</td>\n",
              "    </tr>\n",
              "  </tbody>\n",
              "</table>\n",
              "</div>"
            ],
            "text/plain": [
              "          Tweet_ID  ...                                         clean_text\n",
              "19440  ID_HQKEG389  ...  know crazy thing abt rape issue people talk co...\n",
              "30329  ID_RM3UQDPJ  ...  ive always hat trump since beat rap wife racis...\n",
              "35199  ID_W1WEVR6C  ...  one detain woman compare visit gynecologist ra...\n",
              "33068  ID_U3C6VI0Z  ...  predator young girl rap access laptop everythi...\n",
              "28893  ID_QC056YKK  ...  old girl use b weird shit w kid n wasnt summer...\n",
              "34545  ID_VGP3NDHS  ...  responsible husband upkeep yet beat estrange w...\n",
              "23578  ID_LI8S4BEN  ...  well let explain simple tweet u layman term u ...\n",
              "6714   ID_629GL1J4  ...          husband beat strip n ked woman tell court\n",
              "33172  ID_U6KKTO0S  ...  know pay maybe quid pro quo tell public father...\n",
              "24760  ID_MKMU53SA  ...   biden rap actually rap right rap million iranian\n",
              "39596  ID_ZYQFRA85  ...  pasadena da office press charge attacker call ...\n",
              "36046  ID_WUAHJMRO  ...  call insensitive dbag fb start talk business p...\n",
              "5967   ID_5DX91A1L  ...  someone ask husband beat tell cant wear certai...\n",
              "10160  ID_98IG7V0T  ...  technically say lord forgive ask forgiveness h...\n",
              "14382  ID_D0YQMFZH  ...  violently rap u army station ford ord ca many ...\n",
              "\n",
              "[15 rows x 7 columns]"
            ]
          },
          "metadata": {
            "tags": []
          },
          "execution_count": 14
        }
      ]
    },
    {
      "cell_type": "code",
      "metadata": {
        "id": "finqGuOLD78A"
      },
      "source": [
        "df_train['clean_text'] = df_train['clean_text'].astype(str)"
      ],
      "execution_count": null,
      "outputs": []
    },
    {
      "cell_type": "code",
      "metadata": {
        "id": "W091UjP-DiGD",
        "colab": {
          "base_uri": "https://localhost:8080/"
        },
        "outputId": "03ecb8dc-d1ac-4a59-c96c-4200f404cbb3"
      },
      "source": [
        "df_train.info()"
      ],
      "execution_count": null,
      "outputs": [
        {
          "output_type": "stream",
          "text": [
            "<class 'pandas.core.frame.DataFrame'>\n",
            "RangeIndex: 39650 entries, 0 to 39649\n",
            "Data columns (total 7 columns):\n",
            " #   Column             Non-Null Count  Dtype \n",
            "---  ------             --------------  ----- \n",
            " 0   Tweet_ID           39650 non-null  object\n",
            " 1   tweet              39650 non-null  object\n",
            " 2   type               39650 non-null  int64 \n",
            " 3   word_count         39650 non-null  int64 \n",
            " 4   char_count         39650 non-null  int64 \n",
            " 5   unique_word_count  39650 non-null  int64 \n",
            " 6   clean_text         39650 non-null  object\n",
            "dtypes: int64(4), object(3)\n",
            "memory usage: 2.1+ MB\n"
          ],
          "name": "stdout"
        }
      ]
    },
    {
      "cell_type": "code",
      "metadata": {
        "id": "yFHRMQt-90TO",
        "colab": {
          "base_uri": "https://localhost:8080/"
        },
        "outputId": "94d1d150-6267-465d-9c4a-f66d4c874137"
      },
      "source": [
        "\n",
        "# create Word2vec model\n",
        "#here words_f should be a list containing words from each document. say 1st row of the list is words from the 1st document/sentence\n",
        "#length of words_f is number of documents/sentences in your dataset\n",
        "df_train['clean_text_tok']=[nltk.word_tokenize(i) for i in df_train['clean_text']] #convert preprocessed sentence to tokenized sentence\n",
        "model = Word2Vec(df_train['clean_text_tok'],min_count=1)  #min_count=1 means word should be present at least across all documents,\n",
        "#if min_count=2 means if the word is present less than 2 times across all the documents then we shouldn't consider it\n",
        "\n",
        "\n",
        "w2v = dict(zip(model.wv.index2word, model.wv.syn0))  #combination of word and its vector\n",
        "\n",
        "#for converting sentence to vectors/numbers from word vectors result by Word2Vec\n",
        "class MeanEmbeddingVectorizer(object):\n",
        "    def __init__(self, word2vec):\n",
        "        self.word2vec = word2vec\n",
        "        # if a text is empty we should return a vector of zeros\n",
        "        # with the same dimensionality as all the other vectors\n",
        "        self.dim = len(next(iter(word2vec.values())))\n",
        "\n",
        "    def fit(self, X, y):\n",
        "        return self\n",
        "\n",
        "    def transform(self, X):\n",
        "        return np.array([\n",
        "            np.mean([self.word2vec[w] for w in words if w in self.word2vec]\n",
        "                    or [np.zeros(self.dim)], axis=0)\n",
        "            for words in X\n",
        "        ])"
      ],
      "execution_count": null,
      "outputs": [
        {
          "output_type": "stream",
          "text": [
            "/usr/local/lib/python3.7/dist-packages/ipykernel_launcher.py:10: DeprecationWarning: Call to deprecated `syn0` (Attribute will be removed in 4.0.0, use self.wv.vectors instead).\n",
            "  # Remove the CWD from sys.path while we load stuff.\n"
          ],
          "name": "stderr"
        }
      ]
    },
    {
      "cell_type": "markdown",
      "metadata": {
        "id": "a7RI-Ujav73t"
      },
      "source": [
        "## Vectorizing"
      ]
    },
    {
      "cell_type": "code",
      "metadata": {
        "id": "rCYPuBrX_JeH"
      },
      "source": [
        "#SPLITTING THE TRAINING DATASET INTO TRAINING AND VALIDATION\n",
        " \n",
        "# Input: \"reviewText\", \"rating\" and \"time\"\n",
        "# Target: \"log_votes\"\n",
        "\n",
        "X_train, X_val, y_train, y_val = train_test_split(df_train[\"clean_text\"], \n",
        "                                                  df_train[\"type\"],\n",
        "                                                  test_size=0.33,\n",
        "                                                  shuffle=True)\n",
        "X_train_tok= [nltk.word_tokenize(i) for i in X_train]  #for word2vec # X_train\n",
        "\n",
        "X_val_tok= [nltk.word_tokenize(i) for i in X_val]      #for word2vec # X_test\n",
        "\n",
        "#TF-IDF\n",
        "# Convert x_train to vector since model can only run on numbers and not words- Fit and transform\n",
        "#\n",
        "tfidf_vectorizer = TfidfVectorizer(use_idf=True)\n",
        "X_train_vectors_tfidf = tfidf_vectorizer.fit_transform(X_train) #tfidf runs on non-tokenized sentences unlike word2vec\n",
        "#\n",
        "\n",
        "# Only transform x_test (not fit and transform)\n",
        "X_val_vectors_tfidf = tfidf_vectorizer.transform(X_val) #Don't fit() your TfidfVectorizer to your test data: it will \n",
        "#\n",
        "#change the word-indexes & weights to match test data. Rather, fit on the training data, then use the same train-data-\n",
        "#fit model on the test data, to reflect the fact you're analyzing the test data only based on what was learned without \n",
        "#it, and the have compatible\n",
        "\n",
        "\n",
        "#Word2vec\n",
        "# Fit and transform\n",
        "#\n",
        "modelw = MeanEmbeddingVectorizer(w2v)\n",
        "X_train_vectors_w2v = modelw.transform(X_train_tok)\n",
        "X_val_vectors_w2v = modelw.transform(X_val_tok)"
      ],
      "execution_count": null,
      "outputs": []
    },
    {
      "cell_type": "code",
      "metadata": {
        "id": "j-2QQuyzYMdX",
        "colab": {
          "base_uri": "https://localhost:8080/"
        },
        "outputId": "f6d74424-2764-4b2d-9b48-6089465ff0f5"
      },
      "source": [
        "lr_tfidf=LogisticRegression(solver = 'liblinear', C=10, penalty = 'l2')\n",
        "lr_tfidf.fit(X_train_vectors_tfidf, y_train)  #model\n",
        "\n",
        "from pprint import pprint\n",
        "pprint(lr_tfidf.get_params)"
      ],
      "execution_count": null,
      "outputs": [
        {
          "output_type": "stream",
          "text": [
            "<bound method BaseEstimator.get_params of LogisticRegression(C=10, class_weight=None, dual=False, fit_intercept=True,\n",
            "                   intercept_scaling=1, l1_ratio=None, max_iter=100,\n",
            "                   multi_class='auto', n_jobs=None, penalty='l2',\n",
            "                   random_state=None, solver='liblinear', tol=0.0001, verbose=0,\n",
            "                   warm_start=False)>\n"
          ],
          "name": "stdout"
        }
      ]
    },
    {
      "cell_type": "markdown",
      "metadata": {
        "id": "vNAiacPQwAz5"
      },
      "source": [
        "## Modeling"
      ]
    },
    {
      "cell_type": "markdown",
      "metadata": {
        "id": "A6SzHJriwD0M"
      },
      "source": [
        "### Logistic Regression"
      ]
    },
    {
      "cell_type": "code",
      "metadata": {
        "id": "17IOiaG2_UuX",
        "colab": {
          "base_uri": "https://localhost:8080/"
        },
        "outputId": "2b419a13-41c1-48cc-9435-6ccd7b3b5264"
      },
      "source": [
        "#FITTING THE CLASSIFICATION MODEL using Logistic Regression(tf-idf)\n",
        "\n",
        "lr_tfidf=LogisticRegression(solver = 'liblinear', C=10, penalty = 'l2')\n",
        "lr_tfidf.fit(X_train_vectors_tfidf, y_train)  #model\n",
        "\n",
        "#Predict y value for test dataset\n",
        "y_predict = lr_tfidf.predict(X_val_vectors_tfidf)\n",
        "y_prob = lr_tfidf.predict_proba(X_val_vectors_tfidf)[:,1]\n",
        " \n",
        "\n",
        "print(classification_report(y_val,y_predict))\n",
        "print('Confusion Matrix:',confusion_matrix(y_val, y_predict))\n",
        " \n"
      ],
      "execution_count": null,
      "outputs": [
        {
          "output_type": "stream",
          "text": [
            "              precision    recall  f1-score   support\n",
            "\n",
            "           0       1.00      0.82      0.90        67\n",
            "           1       0.99      0.99      0.99      1962\n",
            "           2       0.98      0.81      0.89        75\n",
            "           3       0.98      0.96      0.97       226\n",
            "           4       1.00      1.00      1.00     10755\n",
            "\n",
            "    accuracy                           1.00     13085\n",
            "   macro avg       0.99      0.92      0.95     13085\n",
            "weighted avg       1.00      1.00      1.00     13085\n",
            "\n",
            "Confusion Matrix: [[   55     0     0     0    12]\n",
            " [    0  1952     0     0    10]\n",
            " [    0     0    61     0    14]\n",
            " [    0     0     0   218     8]\n",
            " [    0    14     1     5 10735]]\n"
          ],
          "name": "stdout"
        }
      ]
    },
    {
      "cell_type": "code",
      "metadata": {
        "id": "SYRsNwnKH0QX",
        "colab": {
          "base_uri": "https://localhost:8080/"
        },
        "outputId": "9255e5c3-06ab-48a5-8472-010e0e8c2560"
      },
      "source": [
        "\n",
        "#Testing it on new dataset with the best model\n",
        "#df_test=pd.read_csv('test.csv')  #reading the data\n",
        "\n",
        "#preprocessing\n",
        "df_test['clean_text'] = df_test['tweet'].apply(lambda x: finalpreprocess(x)) #preprocess the data\n",
        "X_test=df_test['clean_text'] \n",
        "\n",
        "#text to vector\n",
        "X_vector=tfidf_vectorizer.transform(X_test) #converting X_test to vector\n",
        "y_predict = lr_tfidf.predict(X_vector)      #use the trained model on X_vector\n",
        "y_prob = lr_tfidf.predict_proba(X_vector)[:,1]\n",
        "df_test['predict_prob']= y_prob\n",
        "df_test['target']= y_predict\n",
        "print(df_test.head())\n",
        "final=df_test[['Tweet_ID']].reset_index(drop=True)\n",
        "final.to_csv('submission.csv')"
      ],
      "execution_count": null,
      "outputs": [
        {
          "output_type": "stream",
          "text": [
            "      Tweet_ID  ... target\n",
            "0  ID_0095QL4S  ...      4\n",
            "1  ID_00DREW5O  ...      0\n",
            "2  ID_00E9F5X9  ...      4\n",
            "3  ID_00G9OSKZ  ...      4\n",
            "4  ID_00HU96U6  ...      4\n",
            "\n",
            "[5 rows x 5 columns]\n"
          ],
          "name": "stdout"
        }
      ]
    },
    {
      "cell_type": "code",
      "metadata": {
        "id": "ONPRJDiMJU40"
      },
      "source": [
        "attempt1 = df_test.copy(deep=True)"
      ],
      "execution_count": null,
      "outputs": []
    },
    {
      "cell_type": "code",
      "metadata": {
        "id": "Cu1CdfxRJdo8"
      },
      "source": [
        "attempt1.columns\n",
        "attempt1.drop([ 'tweet', 'clean_text', 'predict_prob',], axis = 1, inplace = True)"
      ],
      "execution_count": null,
      "outputs": []
    },
    {
      "cell_type": "markdown",
      "metadata": {
        "id": "1r4dculgZFUK"
      },
      "source": [
        "### Solving Class Imbalance"
      ]
    },
    {
      "cell_type": "code",
      "metadata": {
        "id": "vM_WFYf5ZJQ-",
        "colab": {
          "base_uri": "https://localhost:8080/"
        },
        "outputId": "39657f93-85d5-412d-ad19-a8f90f7c41fe"
      },
      "source": [
        "# Import the libraries\n",
        "from sklearn.datasets import make_classification\n",
        "\n",
        "from imblearn.over_sampling import SVMSMOTE\n",
        "lr_tfidf = SVMSMOTE(random_state = 101)\n",
        "\n",
        "# Choosing a sample\n",
        "X_oversample_svm, y_oversample_svm = make_classification(n_samples=10000, n_features=2,\n",
        "                                                         n_redundant=0, n_clusters_per_class=1,\n",
        "                                                         weights=[0.99], flip_y=0, random_state=101)\n",
        "\n",
        "# Perform Logistic Regression\n",
        "X_oversample_svm, y_oversample_svm = lr_tfidf.fit_resample(X_train_vectors_tfidf, y_train)\n",
        "classifier_svm = LogisticRegression(solver = 'liblinear', C=10, penalty = 'l2')\n",
        "classifier_svm.fit(X_oversample_svm, y_oversample_svm)\n",
        "\n",
        "#Predict y value for test dataset\n",
        "y_predict = classifier_svm.predict(X_val_vectors_tfidf)\n",
        "y_prob = classifier_svm.predict_proba(X_val_vectors_tfidf)[:,1]\n",
        " \n",
        "\n",
        "print(classification_report(y_val, y_predict))\n",
        "print('Confusion Matrix:',confusion_matrix(y_val, y_predict))\n",
        " \n",
        "\n",
        "#print(classification_report(y_test, classifier_svm.predict(X_test)))"
      ],
      "execution_count": null,
      "outputs": [
        {
          "output_type": "stream",
          "text": [
            "/usr/local/lib/python3.7/dist-packages/sklearn/externals/six.py:31: FutureWarning: The module is deprecated in version 0.21 and will be removed in version 0.23 since we've dropped support for Python 2.7. Please rely on the official version of six (https://pypi.org/project/six/).\n",
            "  \"(https://pypi.org/project/six/).\", FutureWarning)\n",
            "/usr/local/lib/python3.7/dist-packages/sklearn/utils/deprecation.py:144: FutureWarning: The sklearn.neighbors.base module is  deprecated in version 0.22 and will be removed in version 0.24. The corresponding classes / functions should instead be imported from sklearn.neighbors. Anything that cannot be imported from sklearn.neighbors is now part of the private API.\n",
            "  warnings.warn(message, FutureWarning)\n",
            "/usr/local/lib/python3.7/dist-packages/sklearn/utils/deprecation.py:87: FutureWarning: Function safe_indexing is deprecated; safe_indexing is deprecated in version 0.22 and will be removed in version 0.24.\n",
            "  warnings.warn(msg, category=FutureWarning)\n",
            "/usr/local/lib/python3.7/dist-packages/sklearn/utils/deprecation.py:87: FutureWarning: Function safe_indexing is deprecated; safe_indexing is deprecated in version 0.22 and will be removed in version 0.24.\n",
            "  warnings.warn(msg, category=FutureWarning)\n",
            "/usr/local/lib/python3.7/dist-packages/sklearn/utils/deprecation.py:87: FutureWarning: Function safe_indexing is deprecated; safe_indexing is deprecated in version 0.22 and will be removed in version 0.24.\n",
            "  warnings.warn(msg, category=FutureWarning)\n",
            "/usr/local/lib/python3.7/dist-packages/sklearn/utils/deprecation.py:87: FutureWarning: Function safe_indexing is deprecated; safe_indexing is deprecated in version 0.22 and will be removed in version 0.24.\n",
            "  warnings.warn(msg, category=FutureWarning)\n",
            "/usr/local/lib/python3.7/dist-packages/sklearn/utils/deprecation.py:87: FutureWarning: Function safe_indexing is deprecated; safe_indexing is deprecated in version 0.22 and will be removed in version 0.24.\n",
            "  warnings.warn(msg, category=FutureWarning)\n"
          ],
          "name": "stderr"
        },
        {
          "output_type": "stream",
          "text": [
            "              precision    recall  f1-score   support\n",
            "\n",
            "           0       0.99      0.99      0.99        67\n",
            "           1       0.99      1.00      0.99      1962\n",
            "           2       0.96      1.00      0.98        75\n",
            "           3       0.97      1.00      0.98       226\n",
            "           4       1.00      1.00      1.00     10755\n",
            "\n",
            "    accuracy                           1.00     13085\n",
            "   macro avg       0.98      1.00      0.99     13085\n",
            "weighted avg       1.00      1.00      1.00     13085\n",
            "\n",
            "Confusion Matrix: [[   66     0     0     0     1]\n",
            " [    0  1959     1     0     2]\n",
            " [    0     0    75     0     0]\n",
            " [    0     0     0   225     1]\n",
            " [    1    17     2     7 10728]]\n"
          ],
          "name": "stdout"
        }
      ]
    },
    {
      "cell_type": "markdown",
      "metadata": {
        "id": "0IV_RpUpZRQV"
      },
      "source": [
        "### Data Processing After Solving Class Imbalance"
      ]
    },
    {
      "cell_type": "code",
      "metadata": {
        "id": "1LED2YaCZPqz",
        "colab": {
          "base_uri": "https://localhost:8080/"
        },
        "outputId": "7b9f6ba4-ce17-46c5-f75b-cb2e7d972926"
      },
      "source": [
        "#Testing it on new dataset with the best model\n",
        "#df_test=pd.read_csv('test.csv')  #reading the data\n",
        "\n",
        "#preprocessing\n",
        "df_test['clean_text'] = df_test['tweet'].apply(lambda x: finalpreprocess(x)) #preprocess the data\n",
        "X_test=df_test['clean_text'] \n",
        "\n",
        "#text to vector\n",
        "X_vector_imb = tfidf_vectorizer.transform(X_test) #converting X_test to vector\n",
        "y_predict_imb = classifier_svm.predict(X_vector)      #use the trained model on X_vector\n",
        "y_prob = classifier_svm.predict_proba(X_vector_imb)[:,1]\n",
        "df_test['predict_prob']= y_prob\n",
        "df_test['target']= y_predict_imb\n",
        "print(df_test.head())\n"
      ],
      "execution_count": null,
      "outputs": [
        {
          "output_type": "stream",
          "text": [
            "      Tweet_ID  ... target\n",
            "0  ID_0095QL4S  ...      4\n",
            "1  ID_00DREW5O  ...      0\n",
            "2  ID_00E9F5X9  ...      0\n",
            "3  ID_00G9OSKZ  ...      4\n",
            "4  ID_00HU96U6  ...      4\n",
            "\n",
            "[5 rows x 5 columns]\n"
          ],
          "name": "stdout"
        }
      ]
    },
    {
      "cell_type": "code",
      "metadata": {
        "colab": {
          "base_uri": "https://localhost:8080/",
          "height": 419
        },
        "id": "V6LjR5shgGbN",
        "outputId": "2eaa8324-f010-46ea-b392-9275b1bbcca5"
      },
      "source": [
        "dff2 = df_test.copy()\n",
        "dff2.drop([ 'tweet', 'clean_text'], axis = 1, inplace = True)\n",
        "dff2.to_csv('Support_Vector_Model.csv')\n",
        "dff2"
      ],
      "execution_count": null,
      "outputs": [
        {
          "output_type": "execute_result",
          "data": {
            "text/html": [
              "<div>\n",
              "<style scoped>\n",
              "    .dataframe tbody tr th:only-of-type {\n",
              "        vertical-align: middle;\n",
              "    }\n",
              "\n",
              "    .dataframe tbody tr th {\n",
              "        vertical-align: top;\n",
              "    }\n",
              "\n",
              "    .dataframe thead th {\n",
              "        text-align: right;\n",
              "    }\n",
              "</style>\n",
              "<table border=\"1\" class=\"dataframe\">\n",
              "  <thead>\n",
              "    <tr style=\"text-align: right;\">\n",
              "      <th></th>\n",
              "      <th>Tweet_ID</th>\n",
              "      <th>predict_prob</th>\n",
              "      <th>target</th>\n",
              "    </tr>\n",
              "  </thead>\n",
              "  <tbody>\n",
              "    <tr>\n",
              "      <th>0</th>\n",
              "      <td>ID_0095QL4S</td>\n",
              "      <td>0.000951</td>\n",
              "      <td>4</td>\n",
              "    </tr>\n",
              "    <tr>\n",
              "      <th>1</th>\n",
              "      <td>ID_00DREW5O</td>\n",
              "      <td>0.007645</td>\n",
              "      <td>0</td>\n",
              "    </tr>\n",
              "    <tr>\n",
              "      <th>2</th>\n",
              "      <td>ID_00E9F5X9</td>\n",
              "      <td>0.001219</td>\n",
              "      <td>0</td>\n",
              "    </tr>\n",
              "    <tr>\n",
              "      <th>3</th>\n",
              "      <td>ID_00G9OSKZ</td>\n",
              "      <td>0.002683</td>\n",
              "      <td>4</td>\n",
              "    </tr>\n",
              "    <tr>\n",
              "      <th>4</th>\n",
              "      <td>ID_00HU96U6</td>\n",
              "      <td>0.032311</td>\n",
              "      <td>4</td>\n",
              "    </tr>\n",
              "    <tr>\n",
              "      <th>...</th>\n",
              "      <td>...</td>\n",
              "      <td>...</td>\n",
              "      <td>...</td>\n",
              "    </tr>\n",
              "    <tr>\n",
              "      <th>15576</th>\n",
              "      <td>ID_ZZR1D21T</td>\n",
              "      <td>0.000056</td>\n",
              "      <td>0</td>\n",
              "    </tr>\n",
              "    <tr>\n",
              "      <th>15577</th>\n",
              "      <td>ID_ZZSQF54Y</td>\n",
              "      <td>0.000021</td>\n",
              "      <td>4</td>\n",
              "    </tr>\n",
              "    <tr>\n",
              "      <th>15578</th>\n",
              "      <td>ID_ZZTN5126</td>\n",
              "      <td>0.000067</td>\n",
              "      <td>4</td>\n",
              "    </tr>\n",
              "    <tr>\n",
              "      <th>15579</th>\n",
              "      <td>ID_ZZWS0XZZ</td>\n",
              "      <td>0.010406</td>\n",
              "      <td>4</td>\n",
              "    </tr>\n",
              "    <tr>\n",
              "      <th>15580</th>\n",
              "      <td>ID_ZZZE5A5Q</td>\n",
              "      <td>0.003316</td>\n",
              "      <td>4</td>\n",
              "    </tr>\n",
              "  </tbody>\n",
              "</table>\n",
              "<p>15581 rows × 3 columns</p>\n",
              "</div>"
            ],
            "text/plain": [
              "          Tweet_ID  predict_prob  target\n",
              "0      ID_0095QL4S      0.000951       4\n",
              "1      ID_00DREW5O      0.007645       0\n",
              "2      ID_00E9F5X9      0.001219       0\n",
              "3      ID_00G9OSKZ      0.002683       4\n",
              "4      ID_00HU96U6      0.032311       4\n",
              "...            ...           ...     ...\n",
              "15576  ID_ZZR1D21T      0.000056       0\n",
              "15577  ID_ZZSQF54Y      0.000021       4\n",
              "15578  ID_ZZTN5126      0.000067       4\n",
              "15579  ID_ZZWS0XZZ      0.010406       4\n",
              "15580  ID_ZZZE5A5Q      0.003316       4\n",
              "\n",
              "[15581 rows x 3 columns]"
            ]
          },
          "metadata": {
            "tags": []
          },
          "execution_count": 26
        }
      ]
    },
    {
      "cell_type": "code",
      "metadata": {
        "colab": {
          "base_uri": "https://localhost:8080/",
          "height": 204
        },
        "id": "_v8FXM0EiehI",
        "outputId": "cd430eae-e8b1-4872-c093-407e8edb08da"
      },
      "source": [
        "dff2.head()"
      ],
      "execution_count": null,
      "outputs": [
        {
          "output_type": "execute_result",
          "data": {
            "text/html": [
              "<div>\n",
              "<style scoped>\n",
              "    .dataframe tbody tr th:only-of-type {\n",
              "        vertical-align: middle;\n",
              "    }\n",
              "\n",
              "    .dataframe tbody tr th {\n",
              "        vertical-align: top;\n",
              "    }\n",
              "\n",
              "    .dataframe thead th {\n",
              "        text-align: right;\n",
              "    }\n",
              "</style>\n",
              "<table border=\"1\" class=\"dataframe\">\n",
              "  <thead>\n",
              "    <tr style=\"text-align: right;\">\n",
              "      <th></th>\n",
              "      <th>Tweet_ID</th>\n",
              "      <th>predict_prob</th>\n",
              "      <th>target</th>\n",
              "    </tr>\n",
              "  </thead>\n",
              "  <tbody>\n",
              "    <tr>\n",
              "      <th>0</th>\n",
              "      <td>ID_0095QL4S</td>\n",
              "      <td>0.000951</td>\n",
              "      <td>4</td>\n",
              "    </tr>\n",
              "    <tr>\n",
              "      <th>1</th>\n",
              "      <td>ID_00DREW5O</td>\n",
              "      <td>0.007645</td>\n",
              "      <td>0</td>\n",
              "    </tr>\n",
              "    <tr>\n",
              "      <th>2</th>\n",
              "      <td>ID_00E9F5X9</td>\n",
              "      <td>0.001219</td>\n",
              "      <td>0</td>\n",
              "    </tr>\n",
              "    <tr>\n",
              "      <th>3</th>\n",
              "      <td>ID_00G9OSKZ</td>\n",
              "      <td>0.002683</td>\n",
              "      <td>4</td>\n",
              "    </tr>\n",
              "    <tr>\n",
              "      <th>4</th>\n",
              "      <td>ID_00HU96U6</td>\n",
              "      <td>0.032311</td>\n",
              "      <td>4</td>\n",
              "    </tr>\n",
              "  </tbody>\n",
              "</table>\n",
              "</div>"
            ],
            "text/plain": [
              "      Tweet_ID  predict_prob  target\n",
              "0  ID_0095QL4S      0.000951       4\n",
              "1  ID_00DREW5O      0.007645       0\n",
              "2  ID_00E9F5X9      0.001219       0\n",
              "3  ID_00G9OSKZ      0.002683       4\n",
              "4  ID_00HU96U6      0.032311       4"
            ]
          },
          "metadata": {
            "tags": []
          },
          "execution_count": 27
        }
      ]
    },
    {
      "cell_type": "code",
      "metadata": {
        "colab": {
          "base_uri": "https://localhost:8080/",
          "height": 204
        },
        "id": "YUr-1XIIkqda",
        "outputId": "7f3f5819-c7c3-4f85-b14b-53ec5f2fe52b"
      },
      "source": [
        "dff3 = dff2.copy(deep=True)\n",
        "# overwriting column with replaced value of age\n",
        "dff3[\"target\"] = dff3[\"target\"].replace(4, \"sexual_violence\")\n",
        "dff3[\"target\"] = dff3[\"target\"].replace(1, \"Physical_violence\")\n",
        "dff3[\"target\"] = dff3[\"target\"].replace(3, \"emotional_violence\")\n",
        "dff3[\"target\"] = dff3[\"target\"].replace(2, \"economic_violence\")\n",
        "dff3[\"target\"] = dff3[\"target\"].replace(0, \"Harmful_Traditional_practice\")\n",
        "dff3.head()"
      ],
      "execution_count": null,
      "outputs": [
        {
          "output_type": "execute_result",
          "data": {
            "text/html": [
              "<div>\n",
              "<style scoped>\n",
              "    .dataframe tbody tr th:only-of-type {\n",
              "        vertical-align: middle;\n",
              "    }\n",
              "\n",
              "    .dataframe tbody tr th {\n",
              "        vertical-align: top;\n",
              "    }\n",
              "\n",
              "    .dataframe thead th {\n",
              "        text-align: right;\n",
              "    }\n",
              "</style>\n",
              "<table border=\"1\" class=\"dataframe\">\n",
              "  <thead>\n",
              "    <tr style=\"text-align: right;\">\n",
              "      <th></th>\n",
              "      <th>Tweet_ID</th>\n",
              "      <th>predict_prob</th>\n",
              "      <th>target</th>\n",
              "    </tr>\n",
              "  </thead>\n",
              "  <tbody>\n",
              "    <tr>\n",
              "      <th>0</th>\n",
              "      <td>ID_0095QL4S</td>\n",
              "      <td>0.000951</td>\n",
              "      <td>sexual_violence</td>\n",
              "    </tr>\n",
              "    <tr>\n",
              "      <th>1</th>\n",
              "      <td>ID_00DREW5O</td>\n",
              "      <td>0.007645</td>\n",
              "      <td>Harmful_Traditional_practice</td>\n",
              "    </tr>\n",
              "    <tr>\n",
              "      <th>2</th>\n",
              "      <td>ID_00E9F5X9</td>\n",
              "      <td>0.001219</td>\n",
              "      <td>Harmful_Traditional_practice</td>\n",
              "    </tr>\n",
              "    <tr>\n",
              "      <th>3</th>\n",
              "      <td>ID_00G9OSKZ</td>\n",
              "      <td>0.002683</td>\n",
              "      <td>sexual_violence</td>\n",
              "    </tr>\n",
              "    <tr>\n",
              "      <th>4</th>\n",
              "      <td>ID_00HU96U6</td>\n",
              "      <td>0.032311</td>\n",
              "      <td>sexual_violence</td>\n",
              "    </tr>\n",
              "  </tbody>\n",
              "</table>\n",
              "</div>"
            ],
            "text/plain": [
              "      Tweet_ID  predict_prob                        target\n",
              "0  ID_0095QL4S      0.000951               sexual_violence\n",
              "1  ID_00DREW5O      0.007645  Harmful_Traditional_practice\n",
              "2  ID_00E9F5X9      0.001219  Harmful_Traditional_practice\n",
              "3  ID_00G9OSKZ      0.002683               sexual_violence\n",
              "4  ID_00HU96U6      0.032311               sexual_violence"
            ]
          },
          "metadata": {
            "tags": []
          },
          "execution_count": 28
        }
      ]
    },
    {
      "cell_type": "code",
      "metadata": {
        "id": "0WA5BUKMnKyF"
      },
      "source": [
        "dff3.to_csv('SVM_updated.csv')"
      ],
      "execution_count": null,
      "outputs": []
    },
    {
      "cell_type": "markdown",
      "metadata": {
        "id": "v9bjN1W2wOI0"
      },
      "source": [
        "### Support Vector Machine"
      ]
    },
    {
      "cell_type": "markdown",
      "metadata": {
        "id": "qdLLn3UawT2I"
      },
      "source": [
        "#### Linear"
      ]
    },
    {
      "cell_type": "code",
      "metadata": {
        "id": "INOor_80hBrX"
      },
      "source": [
        "# Import Suport Vector Classifier module from svm library. We'll use SVC to model our data\n",
        "from sklearn.svm import SVC,LinearSVC\n",
        "from sklearn.model_selection import train_test_split\n",
        "# Import scikit-learn metrics module for accuracy calculation\n",
        "from sklearn.metrics import  accuracy_score\n",
        "from sklearn.metrics import confusion_matrix"
      ],
      "execution_count": null,
      "outputs": []
    },
    {
      "cell_type": "code",
      "metadata": {
        "id": "GQSXcDDMiTFH"
      },
      "source": [
        "# Fit the model\n",
        "svm = SVC(kernel= 'linear')\n",
        "svm.fit(X_train_vectors_tfidf, y_train)\n",
        "\n",
        "y_pred_svm = svm.predict(X_val_vectors_tfidf)"
      ],
      "execution_count": null,
      "outputs": []
    },
    {
      "cell_type": "code",
      "metadata": {
        "id": "4PhbVsb8sAiH",
        "colab": {
          "base_uri": "https://localhost:8080/"
        },
        "outputId": "0964c3dd-e88f-453c-af68-f57ae3884d7d"
      },
      "source": [
        "model_accuracy = accuracy_score(y_val, y_pred_svm)\n",
        "print(model_accuracy)\n",
        "\n",
        "# We've gotten a classification rate of 95.61%. This is a pretty good accuracy score \n",
        "\n",
        "# For further evaluation you can also check the confusion matrix\n",
        "confusion_matrix = confusion_matrix(y_val, y_pred_svm)\n",
        "confusion_matrix"
      ],
      "execution_count": null,
      "outputs": [
        {
          "output_type": "stream",
          "text": [
            "0.996178830722201\n"
          ],
          "name": "stdout"
        },
        {
          "output_type": "execute_result",
          "data": {
            "text/plain": [
              "array([[   61,     0,     0,     0,     6],\n",
              "       [    1,  1955,     1,     0,     5],\n",
              "       [    0,     0,    69,     0,     6],\n",
              "       [    0,     0,     0,   222,     4],\n",
              "       [    0,    17,     1,     9, 10728]])"
            ]
          },
          "metadata": {
            "tags": []
          },
          "execution_count": 32
        }
      ]
    },
    {
      "cell_type": "code",
      "metadata": {
        "id": "KveNDx70iS7k"
      },
      "source": [
        "df_test['clean_text'] = df_test['tweet'].apply(lambda x: finalpreprocess(x)) #preprocess the data\n",
        "X_test=df_test['clean_text'] \n"
      ],
      "execution_count": null,
      "outputs": []
    },
    {
      "cell_type": "code",
      "metadata": {
        "id": "Lyx9lm7Wts_l"
      },
      "source": [
        "#text to vector\n",
        "X_vector=tfidf_vectorizer.transform(X_test) #converting X_test to vector\n",
        "y_predict_svm = svm.predict(X_vector)      #use the trained model on X_vector\n",
        "#y_prob = svm.predict_proba(X_vector)[:,1]\n",
        "#df_test['predict_prob']= y_prob\n",
        "y_predict_svm = le.inverse_transform(y_predict_svm)\n",
        "#final.to_csv('SVM.csv')"
      ],
      "execution_count": null,
      "outputs": []
    },
    {
      "cell_type": "code",
      "metadata": {
        "id": "kbUVnGLbkIMw",
        "colab": {
          "base_uri": "https://localhost:8080/"
        },
        "outputId": "7e70c3dd-9da8-44d6-f62e-5f5b51221b6f"
      },
      "source": [
        "df_test['target']= y_predict_svm\n",
        "print(df_test.head())\n",
        "#final=df_test[['Tweet_ID']].reset_index(drop=True)"
      ],
      "execution_count": null,
      "outputs": [
        {
          "output_type": "stream",
          "text": [
            "      Tweet_ID  ...                        target\n",
            "0  ID_0095QL4S  ...               sexual_violence\n",
            "1  ID_00DREW5O  ...  Harmful_Traditional_practice\n",
            "2  ID_00E9F5X9  ...               sexual_violence\n",
            "3  ID_00G9OSKZ  ...               sexual_violence\n",
            "4  ID_00HU96U6  ...               sexual_violence\n",
            "\n",
            "[5 rows x 5 columns]\n"
          ],
          "name": "stdout"
        }
      ]
    },
    {
      "cell_type": "code",
      "metadata": {
        "id": "WqdsezHTmBvr",
        "colab": {
          "base_uri": "https://localhost:8080/"
        },
        "outputId": "e7d9063b-146c-4cf6-cc13-3d5c8cef1aa8"
      },
      "source": [
        "df_test.info()"
      ],
      "execution_count": null,
      "outputs": [
        {
          "output_type": "stream",
          "text": [
            "<class 'pandas.core.frame.DataFrame'>\n",
            "RangeIndex: 15581 entries, 0 to 15580\n",
            "Data columns (total 5 columns):\n",
            " #   Column        Non-Null Count  Dtype  \n",
            "---  ------        --------------  -----  \n",
            " 0   Tweet_ID      15581 non-null  object \n",
            " 1   tweet         15581 non-null  object \n",
            " 2   clean_text    15581 non-null  object \n",
            " 3   predict_prob  15581 non-null  float64\n",
            " 4   target        15581 non-null  object \n",
            "dtypes: float64(1), object(4)\n",
            "memory usage: 608.8+ KB\n"
          ],
          "name": "stdout"
        }
      ]
    },
    {
      "cell_type": "code",
      "metadata": {
        "id": "aX27IdK-iSom"
      },
      "source": [
        "dff = df_test.copy()\n",
        "dff.drop([ 'tweet', 'clean_text'], axis = 1, inplace = True)\n",
        "dff.to_csv('Support_Vector_Model.csv')"
      ],
      "execution_count": null,
      "outputs": []
    },
    {
      "cell_type": "code",
      "metadata": {
        "id": "VCdb6t2rcWnO"
      },
      "source": [
        "attempt1 = dff.to_csv('Support_Vector_Model_new.csv')"
      ],
      "execution_count": null,
      "outputs": []
    },
    {
      "cell_type": "code",
      "metadata": {
        "id": "P_m7Dq9OKQDB"
      },
      "source": [
        "attempt1"
      ],
      "execution_count": null,
      "outputs": []
    },
    {
      "cell_type": "code",
      "metadata": {
        "id": "Zv2joxBJ_UgS",
        "colab": {
          "base_uri": "https://localhost:8080/"
        },
        "outputId": "48856231-4119-4118-ea1c-da0520732ea3"
      },
      "source": [
        "from sklearn.naive_bayes import MultinomialNB as mn\n",
        "\n",
        "mn = mn()\n",
        "\n",
        "model = mn.fit(X_train_vectors_tfidf, y_train)\n",
        "y_p = model.predict(X_val_vectors_tfidf)\n",
        "\n",
        "from sklearn.metrics import accuracy_score\n",
        "\n",
        "accuracy_score(y_p, y_val)"
      ],
      "execution_count": null,
      "outputs": [
        {
          "output_type": "execute_result",
          "data": {
            "text/plain": [
              "0.8850592281238059"
            ]
          },
          "metadata": {
            "tags": []
          },
          "execution_count": 40
        }
      ]
    },
    {
      "cell_type": "code",
      "metadata": {
        "id": "QVCJ9fED_UbN",
        "colab": {
          "base_uri": "https://localhost:8080/"
        },
        "outputId": "967f621a-547b-4c18-8361-dd765c5b3d2f"
      },
      "source": [
        "X_val_vectors_tfidf"
      ],
      "execution_count": null,
      "outputs": [
        {
          "output_type": "execute_result",
          "data": {
            "text/plain": [
              "<13085x25654 sparse matrix of type '<class 'numpy.float64'>'\n",
              "\twith 215922 stored elements in Compressed Sparse Row format>"
            ]
          },
          "metadata": {
            "tags": []
          },
          "execution_count": 41
        }
      ]
    },
    {
      "cell_type": "code",
      "metadata": {
        "id": "TPKS0njcCeMJ",
        "colab": {
          "base_uri": "https://localhost:8080/"
        },
        "outputId": "f641c33a-047a-4a0f-9ee4-d50fec65aacd"
      },
      "source": [
        "#FITTING THE CLASSIFICATION MODEL using Naive Bayes(tf-idf)\n",
        "#It's a probabilistic classifier that makes use of Bayes' Theorem, a rule that uses probability to make predictions based on prior knowledge of conditions that might be related. This algorithm is the most suitable for such large dataset as it considers each feature independently, calculates the probability of each category, and then predicts the category with the highest probability.\n",
        "\n",
        "nb_tfidf = MultinomialNB()\n",
        "nb_tfidf.fit(X_train_vectors_tfidf, y_train)  #model\n",
        "\n",
        "#Predict y value for test dataset\n",
        "y_predict = nb_tfidf.predict(X_val_vectors_tfidf)\n",
        "y_prob = nb_tfidf.predict_proba(X_val_vectors_tfidf)[:,1]\n",
        " \n",
        "\n",
        "print(classification_report(y_val,y_predict))\n",
        "#print('Confusion Matrix:',confusion_matrix(y_val, y_predict))\n",
        " \n",
        "#fpr, tpr, thresholds = roc_curve(y_val, y_prob)\n",
        "#roc_auc = auc(fpr, tpr)\n",
        "#print('AUC:', roc_auc)"
      ],
      "execution_count": null,
      "outputs": [
        {
          "output_type": "stream",
          "text": [
            "              precision    recall  f1-score   support\n",
            "\n",
            "           0       0.00      0.00      0.00        67\n",
            "           1       1.00      0.42      0.59      1962\n",
            "           2       0.00      0.00      0.00        75\n",
            "           3       1.00      0.03      0.06       226\n",
            "           4       0.88      1.00      0.93     10755\n",
            "\n",
            "    accuracy                           0.89     13085\n",
            "   macro avg       0.58      0.29      0.32     13085\n",
            "weighted avg       0.89      0.89      0.86     13085\n",
            "\n"
          ],
          "name": "stdout"
        },
        {
          "output_type": "stream",
          "text": [
            "/usr/local/lib/python3.7/dist-packages/sklearn/metrics/_classification.py:1272: UndefinedMetricWarning: Precision and F-score are ill-defined and being set to 0.0 in labels with no predicted samples. Use `zero_division` parameter to control this behavior.\n",
            "  _warn_prf(average, modifier, msg_start, len(result))\n"
          ],
          "name": "stderr"
        }
      ]
    },
    {
      "cell_type": "markdown",
      "metadata": {
        "id": "tsOOV8KuzBXU"
      },
      "source": [
        "### Gradient boost"
      ]
    },
    {
      "cell_type": "code",
      "metadata": {
        "id": "gUkL2KHCzEQ7",
        "colab": {
          "base_uri": "https://localhost:8080/",
          "height": 404
        },
        "outputId": "f8a31560-d0f0-477e-91ca-c5daab270b19"
      },
      "source": [
        "from sklearn.ensemble import GradientBoostingRegressor\n",
        "\n",
        "# First create a copy of the original dataframe\n",
        "#gbtrees_df = data_df.copy(deep=True)\n",
        "\n",
        "#getting the matrix of features x\n",
        "#X = gbtrees_df.drop('status', axis = 1)\n",
        "#y = gbtrees_df['status']\n",
        "\n",
        "#encoding the categroical features in y \n",
        "#from sklearn.preprocessing import LabelEncoder\n",
        "#le = LabelEncoder()\n",
        "#y = le.fit_transform(y)\n",
        "\n",
        "#Separate Target Variable and Predictor Variables\n",
        "#TargetVariable = 'status'\n",
        "#Predictors = ['age', 'TSH', 'T3', 'TT4', 'T4U', 'FTI', 'TBG']\n",
        "#X = gbtrees_df[Predictors].values\n",
        "#y = encoding_df[TargetVariable].values\n",
        "\n",
        "# Splitting into training set and test set \n",
        "#X_train, X_test, y_train, y_test = train_test_split(X, y, test_size = 0.3, random_state = 42)\n",
        "\n",
        "##\n",
        "from matplotlib import pyplot as plt\n",
        "\n",
        "from sklearn.ensemble import GradientBoostingRegressor\n",
        "target_number_of_trees = 300\n",
        "\n",
        "boost = GradientBoostingRegressor(n_estimators=target_number_of_trees, learning_rate=0.01, max_depth=1)\n",
        "boost = boost.fit(X_train_vectors_tfidf, y_train)\n",
        "\n",
        "y_pred_boost = boost.predict(X_val_vectors_tfidf)\n",
        "\n",
        "plt.figure(figsize=(12, 6))\n",
        "plt.subplot(1, 2, 1)\n",
        "plt.title('Deviance')\n",
        "# the train_score_ variable is a list that records the deviance of the model for any given number of trees. gbr.train_score_[0] is the deviance when we only had the initial tree, whereas\n",
        "# gbr.train_score_[100] is the deviance by the time we have created 100 trees.\n",
        "# This is plotted against a simple list that goes from 1 to our target number of trees.\n",
        "plt.plot(np.arange(target_number_of_trees) + 1, boost.train_score_, 'b-',\n",
        "         label='Training Set Deviance')\n",
        "\n",
        "# We also want to see how well we could handle the test set each time. \n",
        "# The staged_predict function takes an X, and returns a list of the predictions for X at various stages of the training: What did we pick when we had 1 tree, 2 trees, 3 trees, etc.\n",
        "# We will compare our predictions at each stage against the test data, and compute the deviance\n",
        "test_score = np.zeros((target_number_of_trees,), dtype=np.float64) # this is just a list of 0s\n",
        "\n",
        "for i, y_pred in enumerate(boost.staged_predict(X_vector)): \n",
        "    # For each prediction, compute the loss function comparing the actual data with your prediction at a given stage of training\n",
        "    test_score[i] = boost.loss_(y_val, y_pred_boost)\n",
        "    \n",
        "plt.plot(np.arange(target_number_of_trees) + 1, test_score, 'r-',\n",
        "         label='Test Set Deviance')\n",
        "\n",
        "plt.legend(loc='upper right')\n",
        "plt.xlabel('Boosting Iterations')\n",
        "plt.ylabel('Deviance')\n",
        "plt.show()"
      ],
      "execution_count": null,
      "outputs": [
        {
          "output_type": "display_data",
          "data": {
            "image/png": "[encoded data removed]",
            "text/plain": [
              "<Figure size 864x432 with 1 Axes>"
            ]
          },
          "metadata": {
            "tags": [],
            "needs_background": "light"
          }
        }
      ]
    }
  ]
}